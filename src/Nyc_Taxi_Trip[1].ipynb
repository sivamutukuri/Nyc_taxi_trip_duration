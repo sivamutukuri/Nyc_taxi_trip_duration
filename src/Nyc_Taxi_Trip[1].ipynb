{
 "cells": [
  {
   "cell_type": "markdown",
   "id": "ecf3f5ee",
   "metadata": {},
   "source": [
    "# Data fields\n",
    "\n",
    "\n",
    "\n",
    "id - a unique identifier for each trip.\n",
    "\n",
    "vendor_id - a code indicating the provider associated with the trip record.\n",
    "\n",
    "pickup_datetime - date and time when the meter was engaged.\n",
    "\n",
    "dropoff_datetime - date and time when the meter was disengaged.\n",
    "\n",
    "passenger_count - the number of passengers in the vehicle (driver entered value).\n",
    "\n",
    "pickup_longitude - the longitude where the meter was engaged.\n",
    "\n",
    "pickup_latitude - the latitude where the meter was engaged.\n",
    "\n",
    "dropoff_longitude - the longitude where the meter was disengaged.\n",
    "\n",
    "dropoff_latitude - the latitude where the meter was disengaged.\n",
    "\n",
    "store_and_fwd_flag - This flag indicates whether the trip record was held in vehicle memory before sending to the vendor because the vehicle did not have a connection to the server - Y=store and forward; N=not a store and forward trip.\n",
    "\n",
    "trip_duration - duration of the trip in seconds."
   ]
  },
  {
   "cell_type": "code",
   "execution_count": 1,
   "id": "ddd3a514",
   "metadata": {},
   "outputs": [],
   "source": [
    "import numpy as np\n",
    "import pandas as pd\n",
    "import matplotlib.pyplot as plt\n",
    "%matplotlib inline\n",
    "from sklearn.model_selection import train_test_split\n",
    "from sklearn.metrics import r2_score,mean_squared_error,mean_squared_log_error\n",
    "from sklearn.preprocessing import LabelEncoder\n",
    "import warnings\n",
    "warnings.filterwarnings(\"ignore\")"
   ]
  },
  {
   "cell_type": "code",
   "execution_count": 2,
   "id": "ee40be8c",
   "metadata": {},
   "outputs": [],
   "source": [
    "import lux"
   ]
  },
  {
   "cell_type": "code",
   "execution_count": 3,
   "id": "78f81502",
   "metadata": {},
   "outputs": [],
   "source": [
    "data=pd.read_csv(\"nyc_taxi_trip_duration.csv\")"
   ]
  },
  {
   "cell_type": "code",
   "execution_count": 4,
   "id": "e55ccdbd",
   "metadata": {},
   "outputs": [
    {
     "data": {
      "application/vnd.jupyter.widget-view+json": {
       "model_id": "10bc60c742cd41bc9847055af6a1abd7",
       "version_major": 2,
       "version_minor": 0
      },
      "text/plain": [
       "Button(description='Toggle Pandas/Lux', layout=Layout(top='5px', width='140px'), style=ButtonStyle())"
      ]
     },
     "metadata": {},
     "output_type": "display_data"
    },
    {
     "data": {
      "application/vnd.jupyter.widget-view+json": {
       "model_id": "14e88e84274c4a50afdca562cccb02f5",
       "version_major": 2,
       "version_minor": 0
      },
      "text/plain": [
       "Output()"
      ]
     },
     "metadata": {},
     "output_type": "display_data"
    }
   ],
   "source": [
    "data.head(10)\n"
   ]
  },
  {
   "cell_type": "code",
   "execution_count": 5,
   "id": "c3e39e64",
   "metadata": {},
   "outputs": [
    {
     "data": {
      "text/plain": [
       "(729322, 11)"
      ]
     },
     "execution_count": 5,
     "metadata": {},
     "output_type": "execute_result"
    }
   ],
   "source": [
    "data.shape"
   ]
  },
  {
   "cell_type": "code",
   "execution_count": 6,
   "id": "32564c44",
   "metadata": {},
   "outputs": [
    {
     "name": "stdout",
     "output_type": "stream",
     "text": [
      "<class 'lux.core.frame.LuxDataFrame'>\n",
      "RangeIndex: 729322 entries, 0 to 729321\n",
      "Data columns (total 11 columns):\n",
      " #   Column              Non-Null Count   Dtype  \n",
      "---  ------              --------------   -----  \n",
      " 0   id                  729322 non-null  object \n",
      " 1   vendor_id           729322 non-null  int64  \n",
      " 2   pickup_datetime     729322 non-null  object \n",
      " 3   dropoff_datetime    729322 non-null  object \n",
      " 4   passenger_count     729322 non-null  int64  \n",
      " 5   pickup_longitude    729322 non-null  float64\n",
      " 6   pickup_latitude     729322 non-null  float64\n",
      " 7   dropoff_longitude   729322 non-null  float64\n",
      " 8   dropoff_latitude    729322 non-null  float64\n",
      " 9   store_and_fwd_flag  729322 non-null  object \n",
      " 10  trip_duration       729322 non-null  int64  \n",
      "dtypes: float64(4), int64(3), object(4)\n",
      "memory usage: 61.2+ MB\n"
     ]
    }
   ],
   "source": [
    "data.info()"
   ]
  },
  {
   "cell_type": "code",
   "execution_count": 7,
   "id": "c3be2f9e",
   "metadata": {},
   "outputs": [
    {
     "data": {
      "application/vnd.jupyter.widget-view+json": {
       "model_id": "32f19547036f413ca04a84fc3d868f67",
       "version_major": 2,
       "version_minor": 0
      },
      "text/plain": [
       "Button(description='Toggle Pandas/Lux', layout=Layout(top='5px', width='140px'), style=ButtonStyle())"
      ]
     },
     "metadata": {},
     "output_type": "display_data"
    },
    {
     "data": {
      "application/vnd.jupyter.widget-view+json": {
       "model_id": "313a9cb33e7d4864be4b59bab5a65683",
       "version_major": 2,
       "version_minor": 0
      },
      "text/plain": [
       "Output()"
      ]
     },
     "metadata": {},
     "output_type": "display_data"
    }
   ],
   "source": [
    "data.describe()"
   ]
  },
  {
   "cell_type": "code",
   "execution_count": 8,
   "id": "54f7f513",
   "metadata": {},
   "outputs": [
    {
     "data": {
      "application/vnd.jupyter.widget-view+json": {
       "model_id": "7972ad9ea158454e9e47409fa4393b9e",
       "version_major": 2,
       "version_minor": 0
      },
      "text/plain": [
       "Button(description='Toggle Pandas/Lux', layout=Layout(top='5px', width='140px'), style=ButtonStyle())"
      ]
     },
     "metadata": {},
     "output_type": "display_data"
    },
    {
     "data": {
      "application/vnd.jupyter.widget-view+json": {
       "model_id": "5ee5037376814eaab0ee00623aed5361",
       "version_major": 2,
       "version_minor": 0
      },
      "text/plain": [
       "Output()"
      ]
     },
     "metadata": {},
     "output_type": "display_data"
    }
   ],
   "source": [
    "# Checking dataset contains nulls or not\n",
    "data.isnull().sum()"
   ]
  },
  {
   "cell_type": "code",
   "execution_count": 9,
   "id": "73d869b0",
   "metadata": {},
   "outputs": [
    {
     "data": {
      "text/plain": [
       "array(['N', 'Y'], dtype='<U1')"
      ]
     },
     "execution_count": 9,
     "metadata": {},
     "output_type": "execute_result"
    }
   ],
   "source": [
    "data.store_and_fwd_flag.unique()"
   ]
  },
  {
   "cell_type": "code",
   "execution_count": 10,
   "id": "67b2ee45",
   "metadata": {},
   "outputs": [
    {
     "data": {
      "application/vnd.jupyter.widget-view+json": {
       "model_id": "6146faed37b2453fbeff79cb88746707",
       "version_major": 2,
       "version_minor": 0
      },
      "text/plain": [
       "Button(description='Toggle Pandas/Lux', layout=Layout(top='5px', width='140px'), style=ButtonStyle())"
      ]
     },
     "metadata": {},
     "output_type": "display_data"
    },
    {
     "data": {
      "application/vnd.jupyter.widget-view+json": {
       "model_id": "1366ea85e4a84da99eb23861a678ae59",
       "version_major": 2,
       "version_minor": 0
      },
      "text/plain": [
       "Output()"
      ]
     },
     "metadata": {},
     "output_type": "display_data"
    }
   ],
   "source": [
    "#Using Label encoder \n",
    "label=LabelEncoder()\n",
    "data['store_and_fwd_flag'] = label.fit_transform(data['store_and_fwd_flag'])\n",
    "data"
   ]
  },
  {
   "cell_type": "code",
   "execution_count": 11,
   "id": "00ef6bbb",
   "metadata": {},
   "outputs": [],
   "source": [
    "## Other Methods"
   ]
  },
  {
   "cell_type": "raw",
   "id": "866ba796",
   "metadata": {},
   "source": [
    "\n",
    "\n",
    "from sklearn.preprocessing import OneHotEncoder\n",
    "import pandas as pd\n",
    "encoder = OneHotEncoder(sparse=False)  # Set sparse=False to get a dense array\n",
    "encoded_array = encoder.fit_transform(data[['store_and_fwd_flag']])\n",
    "\n",
    "# Convert the encoded array to a DataFrame with meaningful column name\n",
    "encoded_df = pd.DataFrame(encoded_array, columns=encoder.get_feature_names_out(['store_and_fwd_flag']))\n",
    "\n",
    "# Concatenate the encoded DataFrame with the original DataFrame (excluding the original column if needed)\n",
    "data = pd.concat([data.drop('store_and_fwd_flag', axis=1), encoded_df], axis=1)\n",
    "\n",
    "# Display the updated DataFrame\n",
    "print(data)\n"
   ]
  },
  {
   "cell_type": "raw",
   "id": "553fdb5b",
   "metadata": {},
   "source": [
    "data.store_and_fwd_flag=data.store_and_fwd_flag.map({'N':0,'Y':1})"
   ]
  },
  {
   "cell_type": "raw",
   "id": "8561d2a4",
   "metadata": {},
   "source": [
    "data.store_and_fwd_flag.value_counts()"
   ]
  },
  {
   "cell_type": "code",
   "execution_count": 12,
   "id": "b9453f0b",
   "metadata": {},
   "outputs": [
    {
     "data": {
      "text/plain": [
       "<Axes: >"
      ]
     },
     "execution_count": 12,
     "metadata": {},
     "output_type": "execute_result"
    },
    {
     "data": {
      "image/png": "[encoded data removed]",
      "text/plain": [
       "<Figure size 640x480 with 2 Axes>"
      ]
     },
     "metadata": {},
     "output_type": "display_data"
    }
   ],
   "source": [
    "\n",
    "import seaborn as sns\n",
    "correlation=data.corr()\n",
    "sns.heatmap(correlation,linecolor='white',square=False)\n"
   ]
  },
  {
   "cell_type": "code",
   "execution_count": 13,
   "id": "4904defd",
   "metadata": {},
   "outputs": [
    {
     "name": "stdout",
     "output_type": "stream",
     "text": [
      "trip_duration         1.000000\n",
      "pickup_longitude      0.035447\n",
      "vendor_id             0.027752\n",
      "dropoff_longitude     0.020664\n",
      "passenger_count       0.013022\n",
      "store_and_fwd_flag    0.002754\n",
      "dropoff_latitude     -0.028283\n",
      "pickup_latitude      -0.038163\n",
      "Name: trip_duration, dtype: float64\n"
     ]
    },
    {
     "data": {
      "text/plain": [
       "<matplotlib.lines.Line2D at 0x1b854600520>"
      ]
     },
     "execution_count": 13,
     "metadata": {},
     "output_type": "execute_result"
    },
    {
     "data": {
      "image/png": "[encoded data removed]",
      "text/plain": [
       "<Figure size 1400x1000 with 1 Axes>"
      ]
     },
     "metadata": {},
     "output_type": "display_data"
    }
   ],
   "source": [
    "correlation_to_target=correlation['trip_duration'].sort_values(ascending=False)\n",
    "print(correlation_to_target)\n",
    "plt.figure(figsize=(14,10))\n",
    "bars = plt.bar(x=correlation_to_target.index, height=correlation_to_target.values, color='blue', alpha=0.7, edgecolor='black')\n",
    "plt.axhline(0, color='red', linewidth=1, linestyle='--') "
   ]
  },
  {
   "cell_type": "markdown",
   "id": "e4fc9bf9",
   "metadata": {},
   "source": [
    "###  geodesic takes two tuples of latitude and longitude and calculates the shortest path between them on Earth’s surface, giving the distance in kilometers by default."
   ]
  },
  {
   "cell_type": "markdown",
   "id": "52f61c9b",
   "metadata": {},
   "source": [
    "### Feature Engineering"
   ]
  },
  {
   "cell_type": "code",
   "execution_count": 14,
   "id": "5ac5cc3f",
   "metadata": {},
   "outputs": [],
   "source": [
    "from geopy.distance import geodesic\n",
    "# Calculate distance using geodesic\n",
    "data['distance_km'] = data.apply(lambda row: geodesic(\n",
    "    (row['pickup_latitude'], row['pickup_longitude']),\n",
    "    (row['dropoff_latitude'], row['dropoff_longitude'])\n",
    ").kilometers, axis=1)"
   ]
  },
  {
   "cell_type": "code",
   "execution_count": 15,
   "id": "b4a962b0",
   "metadata": {},
   "outputs": [],
   "source": [
    "data[\"month\"]=pd.to_datetime(data.pickup_datetime).dt.month\n",
    "data[\"week\"]=pd.to_datetime(data.pickup_datetime).dt.week\n",
    "data[\"day\"]=pd.to_datetime(data.pickup_datetime).dt.dayofweek\n",
    "data[\"hour\"]=pd.to_datetime(data.pickup_datetime).dt.hour"
   ]
  },
  {
   "cell_type": "code",
   "execution_count": 16,
   "id": "84cb02ab",
   "metadata": {},
   "outputs": [],
   "source": [
    "\n",
    "data=data.drop(\"id\", axis=1)\n",
    "data=data.drop('pickup_datetime',axis=1)\n",
    "data=data.drop('dropoff_datetime',axis=1)"
   ]
  },
  {
   "cell_type": "code",
   "execution_count": 17,
   "id": "f7ad7c9a",
   "metadata": {},
   "outputs": [
    {
     "data": {
      "application/vnd.jupyter.widget-view+json": {
       "model_id": "9a3ebdeedec44efe8c58285500042f74",
       "version_major": 2,
       "version_minor": 0
      },
      "text/plain": [
       "Button(description='Toggle Pandas/Lux', layout=Layout(top='5px', width='140px'), style=ButtonStyle())"
      ]
     },
     "metadata": {},
     "output_type": "display_data"
    },
    {
     "data": {
      "application/vnd.jupyter.widget-view+json": {
       "model_id": "cdd31788cdd84c3a9d049137caec003f",
       "version_major": 2,
       "version_minor": 0
      },
      "text/plain": [
       "Output()"
      ]
     },
     "metadata": {},
     "output_type": "display_data"
    }
   ],
   "source": [
    "data"
   ]
  },
  {
   "cell_type": "code",
   "execution_count": 18,
   "id": "3cfc3d84",
   "metadata": {},
   "outputs": [
    {
     "data": {
      "text/plain": [
       "1240.5102556291924"
      ]
     },
     "execution_count": 18,
     "metadata": {},
     "output_type": "execute_result"
    }
   ],
   "source": [
    "data.distance_km.max()"
   ]
  },
  {
   "cell_type": "code",
   "execution_count": 19,
   "id": "b6820cb3",
   "metadata": {},
   "outputs": [
    {
     "data": {
      "text/plain": [
       "0.0"
      ]
     },
     "execution_count": 19,
     "metadata": {},
     "output_type": "execute_result"
    }
   ],
   "source": [
    "data.distance_km.min()"
   ]
  },
  {
   "cell_type": "code",
   "execution_count": 20,
   "id": "db83d98b",
   "metadata": {},
   "outputs": [
    {
     "data": {
      "application/vnd.jupyter.widget-view+json": {
       "model_id": "bb20550c95c24dd885fe62ce268f5bb9",
       "version_major": 2,
       "version_minor": 0
      },
      "text/plain": [
       "Button(description='Toggle Pandas/Lux', layout=Layout(top='5px', width='140px'), style=ButtonStyle())"
      ]
     },
     "metadata": {},
     "output_type": "display_data"
    },
    {
     "data": {
      "application/vnd.jupyter.widget-view+json": {
       "model_id": "212c17136ec049ff90b51ebab93ee7b6",
       "version_major": 2,
       "version_minor": 0
      },
      "text/plain": [
       "Output()"
      ]
     },
     "metadata": {},
     "output_type": "display_data"
    }
   ],
   "source": [
    "pivot_table = pd.pivot_table(data, \n",
    "                             index='vendor_id', \n",
    "                             columns='passenger_count', \n",
    "                             values='distance_km', \n",
    "                             aggfunc='sum')\n",
    "pivot_table"
   ]
  },
  {
   "cell_type": "code",
   "execution_count": 21,
   "id": "46039d69",
   "metadata": {},
   "outputs": [
    {
     "data": {
      "application/vnd.jupyter.widget-view+json": {
       "model_id": "14594e9b439c4a1d96e8cf64e6cd6819",
       "version_major": 2,
       "version_minor": 0
      },
      "text/plain": [
       "Button(description='Toggle Pandas/Lux', layout=Layout(top='5px', width='140px'), style=ButtonStyle())"
      ]
     },
     "metadata": {},
     "output_type": "display_data"
    },
    {
     "data": {
      "application/vnd.jupyter.widget-view+json": {
       "model_id": "f80f9be09cbe41c08c57ad7729fc525c",
       "version_major": 2,
       "version_minor": 0
      },
      "text/plain": [
       "Output()"
      ]
     },
     "metadata": {},
     "output_type": "display_data"
    }
   ],
   "source": [
    "pivot_table = pivot_table.reset_index()\n",
    "pivot_table"
   ]
  },
  {
   "cell_type": "code",
   "execution_count": 22,
   "id": "8a9ce0de",
   "metadata": {},
   "outputs": [
    {
     "data": {
      "text/html": [
       "<div>\n",
       "<style scoped>\n",
       "    .dataframe tbody tr th:only-of-type {\n",
       "        vertical-align: middle;\n",
       "    }\n",
       "\n",
       "    .dataframe tbody tr th {\n",
       "        vertical-align: top;\n",
       "    }\n",
       "\n",
       "    .dataframe thead th {\n",
       "        text-align: right;\n",
       "    }\n",
       "</style>\n",
       "<table border=\"1\" class=\"dataframe\">\n",
       "  <thead>\n",
       "    <tr style=\"text-align: right;\">\n",
       "      <th></th>\n",
       "      <th>vendor_id</th>\n",
       "      <th>passenger_count</th>\n",
       "      <th>distance_km</th>\n",
       "    </tr>\n",
       "  </thead>\n",
       "  <tbody>\n",
       "    <tr>\n",
       "      <th>0</th>\n",
       "      <td>1</td>\n",
       "      <td>0</td>\n",
       "      <td>55.476176</td>\n",
       "    </tr>\n",
       "    <tr>\n",
       "      <th>1</th>\n",
       "      <td>2</td>\n",
       "      <td>0</td>\n",
       "      <td>7.363948</td>\n",
       "    </tr>\n",
       "    <tr>\n",
       "      <th>2</th>\n",
       "      <td>1</td>\n",
       "      <td>1</td>\n",
       "      <td>908411.437833</td>\n",
       "    </tr>\n",
       "    <tr>\n",
       "      <th>3</th>\n",
       "      <td>2</td>\n",
       "      <td>1</td>\n",
       "      <td>843339.010677</td>\n",
       "    </tr>\n",
       "    <tr>\n",
       "      <th>4</th>\n",
       "      <td>1</td>\n",
       "      <td>2</td>\n",
       "      <td>180444.736822</td>\n",
       "    </tr>\n",
       "    <tr>\n",
       "      <th>5</th>\n",
       "      <td>2</td>\n",
       "      <td>2</td>\n",
       "      <td>204747.351860</td>\n",
       "    </tr>\n",
       "    <tr>\n",
       "      <th>6</th>\n",
       "      <td>1</td>\n",
       "      <td>3</td>\n",
       "      <td>42620.189111</td>\n",
       "    </tr>\n",
       "    <tr>\n",
       "      <th>7</th>\n",
       "      <td>2</td>\n",
       "      <td>3</td>\n",
       "      <td>62541.281721</td>\n",
       "    </tr>\n",
       "    <tr>\n",
       "      <th>8</th>\n",
       "      <td>1</td>\n",
       "      <td>4</td>\n",
       "      <td>23607.237422</td>\n",
       "    </tr>\n",
       "    <tr>\n",
       "      <th>9</th>\n",
       "      <td>2</td>\n",
       "      <td>4</td>\n",
       "      <td>27204.910168</td>\n",
       "    </tr>\n",
       "    <tr>\n",
       "      <th>10</th>\n",
       "      <td>1</td>\n",
       "      <td>5</td>\n",
       "      <td>590.097713</td>\n",
       "    </tr>\n",
       "    <tr>\n",
       "      <th>11</th>\n",
       "      <td>2</td>\n",
       "      <td>5</td>\n",
       "      <td>135251.375614</td>\n",
       "    </tr>\n",
       "    <tr>\n",
       "      <th>12</th>\n",
       "      <td>1</td>\n",
       "      <td>6</td>\n",
       "      <td>388.757879</td>\n",
       "    </tr>\n",
       "    <tr>\n",
       "      <th>13</th>\n",
       "      <td>2</td>\n",
       "      <td>6</td>\n",
       "      <td>81455.221735</td>\n",
       "    </tr>\n",
       "    <tr>\n",
       "      <th>14</th>\n",
       "      <td>1</td>\n",
       "      <td>7</td>\n",
       "      <td>NaN</td>\n",
       "    </tr>\n",
       "    <tr>\n",
       "      <th>15</th>\n",
       "      <td>2</td>\n",
       "      <td>7</td>\n",
       "      <td>0.002622</td>\n",
       "    </tr>\n",
       "    <tr>\n",
       "      <th>16</th>\n",
       "      <td>1</td>\n",
       "      <td>9</td>\n",
       "      <td>NaN</td>\n",
       "    </tr>\n",
       "    <tr>\n",
       "      <th>17</th>\n",
       "      <td>2</td>\n",
       "      <td>9</td>\n",
       "      <td>0.000000</td>\n",
       "    </tr>\n",
       "  </tbody>\n",
       "</table>\n",
       "</div>"
      ],
      "text/plain": [
       "    vendor_id passenger_count    distance_km\n",
       "0           1               0      55.476176\n",
       "1           2               0       7.363948\n",
       "2           1               1  908411.437833\n",
       "3           2               1  843339.010677\n",
       "4           1               2  180444.736822\n",
       "5           2               2  204747.351860\n",
       "6           1               3   42620.189111\n",
       "7           2               3   62541.281721\n",
       "8           1               4   23607.237422\n",
       "9           2               4   27204.910168\n",
       "10          1               5     590.097713\n",
       "11          2               5  135251.375614\n",
       "12          1               6     388.757879\n",
       "13          2               6   81455.221735\n",
       "14          1               7            NaN\n",
       "15          2               7       0.002622\n",
       "16          1               9            NaN\n",
       "17          2               9       0.000000"
      ]
     },
     "metadata": {},
     "output_type": "display_data"
    }
   ],
   "source": [
    "pivot_melted = pd.melt(pivot_table, id_vars=['vendor_id'], var_name='passenger_count', value_name='distance_km')\n",
    "pivot_melted"
   ]
  },
  {
   "cell_type": "code",
   "execution_count": 23,
   "id": "95c9eb6a",
   "metadata": {},
   "outputs": [
    {
     "data": {
      "text/plain": [
       "<Axes: xlabel='passenger_count', ylabel='distance_km'>"
      ]
     },
     "execution_count": 23,
     "metadata": {},
     "output_type": "execute_result"
    },
    {
     "data": {
      "image/png": "[encoded data removed]",
      "text/plain": [
       "<Figure size 1000x900 with 1 Axes>"
      ]
     },
     "metadata": {},
     "output_type": "display_data"
    }
   ],
   "source": [
    "plt.figure(figsize=(10,9))\n",
    "sns.pointplot(pivot_melted, x=pivot_melted.passenger_count, y='distance_km', hue='vendor_id')\n"
   ]
  },
  {
   "cell_type": "code",
   "execution_count": 24,
   "id": "33e72934",
   "metadata": {},
   "outputs": [
    {
     "data": {
      "application/vnd.jupyter.widget-view+json": {
       "model_id": "5b2a3028e9384c9986401366b82dcc3b",
       "version_major": 2,
       "version_minor": 0
      },
      "text/plain": [
       "Button(description='Toggle Pandas/Lux', layout=Layout(top='5px', width='140px'), style=ButtonStyle())"
      ]
     },
     "metadata": {},
     "output_type": "display_data"
    },
    {
     "data": {
      "application/vnd.jupyter.widget-view+json": {
       "model_id": "7f0c6ad6afaf42369137b711c8f5567c",
       "version_major": 2,
       "version_minor": 0
      },
      "text/plain": [
       "Output()"
      ]
     },
     "metadata": {},
     "output_type": "display_data"
    }
   ],
   "source": [
    "data['trip_duration']"
   ]
  },
  {
   "cell_type": "code",
   "execution_count": 25,
   "id": "a9a9ec36",
   "metadata": {},
   "outputs": [
    {
     "data": {
      "application/vnd.jupyter.widget-view+json": {
       "model_id": "8627b1fdd3484f388910100bcce7bd80",
       "version_major": 2,
       "version_minor": 0
      },
      "text/plain": [
       "Button(description='Toggle Pandas/Lux', layout=Layout(top='5px', width='140px'), style=ButtonStyle())"
      ]
     },
     "metadata": {},
     "output_type": "display_data"
    },
    {
     "data": {
      "application/vnd.jupyter.widget-view+json": {
       "model_id": "fcf61764a0b1420fbccaa9eb9092b980",
       "version_major": 2,
       "version_minor": 0
      },
      "text/plain": [
       "Output()"
      ]
     },
     "metadata": {},
     "output_type": "display_data"
    }
   ],
   "source": [
    "pivot2=pd.pivot_table(data,index='passenger_count',values='trip_duration',aggfunc='sum')\n",
    "pivot2\n"
   ]
  },
  {
   "cell_type": "code",
   "execution_count": 26,
   "id": "f55adc51",
   "metadata": {},
   "outputs": [
    {
     "data": {
      "application/vnd.jupyter.widget-view+json": {
       "model_id": "0eabb50b14d549f296b41c068c199527",
       "version_major": 2,
       "version_minor": 0
      },
      "text/plain": [
       "Button(description='Toggle Pandas/Lux', layout=Layout(top='5px', width='140px'), style=ButtonStyle())"
      ]
     },
     "metadata": {},
     "output_type": "display_data"
    },
    {
     "data": {
      "application/vnd.jupyter.widget-view+json": {
       "model_id": "d99314f798124e6d878449d33fa0434c",
       "version_major": 2,
       "version_minor": 0
      },
      "text/plain": [
       "Output()"
      ]
     },
     "metadata": {},
     "output_type": "display_data"
    }
   ],
   "source": [
    "pivot2=pivot2.reset_index()\n",
    "pivot2"
   ]
  },
  {
   "cell_type": "code",
   "execution_count": 27,
   "id": "71217ee1",
   "metadata": {},
   "outputs": [
    {
     "data": {
      "text/plain": [
       "<Axes: xlabel='passenger_count', ylabel='trip_duration'>"
      ]
     },
     "execution_count": 27,
     "metadata": {},
     "output_type": "execute_result"
    },
    {
     "data": {
      "image/png": "[encoded data removed]",
      "text/plain": [
       "<Figure size 640x480 with 1 Axes>"
      ]
     },
     "metadata": {},
     "output_type": "display_data"
    }
   ],
   "source": [
    "sns.lineplot(pivot2,x=pivot2.passenger_count,y=pivot2.trip_duration)"
   ]
  },
  {
   "cell_type": "code",
   "execution_count": 28,
   "id": "e70a98e4",
   "metadata": {},
   "outputs": [
    {
     "data": {
      "application/vnd.jupyter.widget-view+json": {
       "model_id": "bd4e9c722a21427ba17c50d178f84173",
       "version_major": 2,
       "version_minor": 0
      },
      "text/plain": [
       "Button(description='Toggle Pandas/Lux', layout=Layout(top='5px', width='140px'), style=ButtonStyle())"
      ]
     },
     "metadata": {},
     "output_type": "display_data"
    },
    {
     "data": {
      "application/vnd.jupyter.widget-view+json": {
       "model_id": "b1de2204764e480390786e455e1d217e",
       "version_major": 2,
       "version_minor": 0
      },
      "text/plain": [
       "Output()"
      ]
     },
     "metadata": {},
     "output_type": "display_data"
    }
   ],
   "source": [
    "data.skew()"
   ]
  },
  {
   "cell_type": "code",
   "execution_count": 29,
   "id": "036f43ad",
   "metadata": {},
   "outputs": [
    {
     "data": {
      "application/vnd.jupyter.widget-view+json": {
       "model_id": "f4fad1a9e59a40d8af44be413a0012ca",
       "version_major": 2,
       "version_minor": 0
      },
      "text/plain": [
       "Button(description='Toggle Pandas/Lux', layout=Layout(top='5px', width='140px'), style=ButtonStyle())"
      ]
     },
     "metadata": {},
     "output_type": "display_data"
    },
    {
     "data": {
      "application/vnd.jupyter.widget-view+json": {
       "model_id": "7c005d35897c49788a67cce711e4a01e",
       "version_major": 2,
       "version_minor": 0
      },
      "text/plain": [
       "Output()"
      ]
     },
     "metadata": {},
     "output_type": "display_data"
    }
   ],
   "source": [
    "correlations=data.corr()\n",
    "correlation_to_target2=correlations['trip_duration'].sort_values(ascending=False)\n",
    "correlation_to_target2"
   ]
  },
  {
   "cell_type": "code",
   "execution_count": 30,
   "id": "143ba8ac",
   "metadata": {},
   "outputs": [
    {
     "data": {
      "image/png": "[encoded data removed]",
      "text/plain": [
       "<Figure size 1000x600 with 1 Axes>"
      ]
     },
     "metadata": {},
     "output_type": "display_data"
    }
   ],
   "source": [
    "# Extract column names and skew values\n",
    "skew_values = {\n",
    "'vendor_id':     -0.141968,\n",
    "'passenger_count':   2.135237,\n",
    "'pickup_longitude':-444.219710,\n",
    "'pickup_latitude'   :     35.369490,\n",
    "'dropoff_longitude'  :  -449.890467,\n",
    "'dropoff_latitude'    :  -23.503536,\n",
    "'store_and_fwd_flag'   :  13.324097,\n",
    "'trip_duration'         :186.678437,\n",
    " 'distance_km' :           40.885947\n",
    "\n",
    "}\n",
    "columns = list(skew_values.keys())\n",
    "values = list(skew_values.values())\n",
    "\n",
    "# Plotting\n",
    "plt.figure(figsize=(10, 6))\n",
    "plt.barh(columns, values, color='skyblue')\n",
    "plt.xlabel('Skewness Value')\n",
    "plt.ylabel('Features')\n",
    "plt.title('Skewness of Features')\n",
    "plt.axvline(x=0, color='gray', linestyle='--')  # Vertical line at 0 to show symmetry\n",
    "plt.show()"
   ]
  },
  {
   "cell_type": "code",
   "execution_count": 31,
   "id": "16f0713c",
   "metadata": {},
   "outputs": [],
   "source": [
    "data=data.drop(\"pickup_longitude\", axis=1)\n",
    "data=data.drop(\"dropoff_longitude\", axis=1)"
   ]
  },
  {
   "cell_type": "markdown",
   "id": "91d5f938",
   "metadata": {},
   "source": [
    "### Making the log Transformation for minimizing the outliers"
   ]
  },
  {
   "cell_type": "code",
   "execution_count": 32,
   "id": "1ff2bc43",
   "metadata": {},
   "outputs": [
    {
     "data": {
      "text/plain": [
       "1"
      ]
     },
     "execution_count": 32,
     "metadata": {},
     "output_type": "execute_result"
    }
   ],
   "source": [
    "data['trip_duration'].min()"
   ]
  },
  {
   "cell_type": "code",
   "execution_count": 33,
   "id": "fc1c8dd7",
   "metadata": {},
   "outputs": [
    {
     "data": {
      "text/plain": [
       "1939736"
      ]
     },
     "execution_count": 33,
     "metadata": {},
     "output_type": "execute_result"
    }
   ],
   "source": [
    "data['trip_duration'].max()"
   ]
  },
  {
   "cell_type": "code",
   "execution_count": 34,
   "id": "11b0f23f",
   "metadata": {},
   "outputs": [],
   "source": [
    "column=['trip_duration']\n"
   ]
  },
  {
   "cell_type": "code",
   "execution_count": 35,
   "id": "778d5c16",
   "metadata": {},
   "outputs": [],
   "source": [
    "for i in column:\n",
    "    data[i]=np.log(data[i]+1)"
   ]
  },
  {
   "cell_type": "code",
   "execution_count": 36,
   "id": "2107c317",
   "metadata": {},
   "outputs": [
    {
     "data": {
      "text/plain": [
       "<Axes: xlabel='trip_duration', ylabel='Count'>"
      ]
     },
     "execution_count": 36,
     "metadata": {},
     "output_type": "execute_result"
    },
    {
     "data": {
      "image/png": "[encoded data removed]",
      "text/plain": [
       "<Figure size 640x480 with 1 Axes>"
      ]
     },
     "metadata": {},
     "output_type": "display_data"
    }
   ],
   "source": [
    "sns.histplot(data.trip_duration, kde=True, bins=40,color=\"skyblue\", label=\"Trip Duration Data\")\n"
   ]
  },
  {
   "cell_type": "code",
   "execution_count": 37,
   "id": "acbb5ade",
   "metadata": {},
   "outputs": [
    {
     "data": {
      "application/vnd.jupyter.widget-view+json": {
       "model_id": "4250bdb4496c4fa4b71d0a957a43e74a",
       "version_major": 2,
       "version_minor": 0
      },
      "text/plain": [
       "Button(description='Toggle Pandas/Lux', layout=Layout(top='5px', width='140px'), style=ButtonStyle())"
      ]
     },
     "metadata": {},
     "output_type": "display_data"
    },
    {
     "data": {
      "application/vnd.jupyter.widget-view+json": {
       "model_id": "9233e5dcacee40229beb77b798fe261c",
       "version_major": 2,
       "version_minor": 0
      },
      "text/plain": [
       "Output()"
      ]
     },
     "metadata": {},
     "output_type": "display_data"
    }
   ],
   "source": [
    "data.head(10)"
   ]
  },
  {
   "cell_type": "code",
   "execution_count": 38,
   "id": "f0938353",
   "metadata": {},
   "outputs": [
    {
     "data": {
      "application/vnd.jupyter.widget-view+json": {
       "model_id": "7bc7ad2b7a7d4935be01a867308d7753",
       "version_major": 2,
       "version_minor": 0
      },
      "text/plain": [
       "Button(description='Toggle Pandas/Lux', layout=Layout(top='5px', width='140px'), style=ButtonStyle())"
      ]
     },
     "metadata": {},
     "output_type": "display_data"
    },
    {
     "data": {
      "application/vnd.jupyter.widget-view+json": {
       "model_id": "8c756ff5a62541b89fc4567a1e8d0914",
       "version_major": 2,
       "version_minor": 0
      },
      "text/plain": [
       "Output()"
      ]
     },
     "metadata": {},
     "output_type": "display_data"
    }
   ],
   "source": [
    "data.isnull().sum()"
   ]
  },
  {
   "cell_type": "code",
   "execution_count": 39,
   "id": "01d4bf08",
   "metadata": {},
   "outputs": [],
   "source": [
    "data=data.drop('pickup_latitude',axis=1)\n",
    "data=data.drop('dropoff_latitude',axis=1)"
   ]
  },
  {
   "cell_type": "code",
   "execution_count": 40,
   "id": "1e145e34",
   "metadata": {},
   "outputs": [],
   "source": [
    "\n",
    "x=data.drop(columns='trip_duration', axis=1)\n",
    "y=data[\"trip_duration\"]"
   ]
  },
  {
   "cell_type": "markdown",
   "id": "e91b88d0",
   "metadata": {},
   "source": [
    "## Scaling "
   ]
  },
  {
   "cell_type": "code",
   "execution_count": 41,
   "id": "97802e24",
   "metadata": {},
   "outputs": [
    {
     "data": {
      "text/plain": [
       "array([[ 0.93153253, -0.50444382, -0.07463409, ..., -0.56598138,\n",
       "        -1.56005656,  0.37300611],\n",
       "       [-1.07349982,  0.25749304, -0.07463409, ..., -0.44913684,\n",
       "         0.48653578,  1.46626948],\n",
       "       [ 0.93153253,  0.25749304, -0.07463409, ..., -0.79967047,\n",
       "         1.50983196,  0.5291866 ],\n",
       "       ...,\n",
       "       [-1.07349982, -0.50444382, -0.07463409, ...,  0.13508587,\n",
       "         0.48653578,  0.68536708],\n",
       "       [-1.07349982, -0.50444382, -0.07463409, ...,  1.18668675,\n",
       "         1.50983196, -0.72025725],\n",
       "       [ 0.93153253,  1.78136675, -0.07463409, ...,  4.57517848,\n",
       "         0.48653578,  0.5291866 ]])"
      ]
     },
     "execution_count": 41,
     "metadata": {},
     "output_type": "execute_result"
    }
   ],
   "source": [
    "\n",
    "x=data.drop(columns='trip_duration', axis=1)\n",
    "y=data[\"trip_duration\"]\n",
    "from sklearn.preprocessing import StandardScaler\n",
    "scaling= StandardScaler()\n",
    "scaling=scaling.fit_transform(x)\n",
    "scaling"
   ]
  },
  {
   "cell_type": "code",
   "execution_count": 42,
   "id": "486bbf87",
   "metadata": {},
   "outputs": [],
   "source": [
    "X=pd.DataFrame(scaling,columns=x.columns)"
   ]
  },
  {
   "cell_type": "code",
   "execution_count": 43,
   "id": "20eb1d17",
   "metadata": {},
   "outputs": [],
   "source": [
    "X_train, X_test, y_train, y_test=train_test_split(X,y,train_size=0.70,random_state=42)"
   ]
  },
  {
   "cell_type": "code",
   "execution_count": 44,
   "id": "a815c8b1",
   "metadata": {},
   "outputs": [],
   "source": [
    "from sklearn.model_selection import cross_validate,cross_val_score\n",
    "from sklearn.linear_model import Ridge,Lasso\n",
    "from sklearn.linear_model import LinearRegression"
   ]
  },
  {
   "cell_type": "markdown",
   "id": "d9b4b622",
   "metadata": {},
   "source": [
    "# Ridge\n"
   ]
  },
  {
   "cell_type": "code",
   "execution_count": 45,
   "id": "88df248b",
   "metadata": {},
   "outputs": [
    {
     "data": {
      "text/plain": [
       "{'fit_time': array([0.09424138, 0.09430623, 0.09430552, 0.10409737, 0.10991597]),\n",
       " 'score_time': array([0., 0., 0., 0., 0.]),\n",
       " 'test_score': array([-0.00266906,  0.36873433,  0.36459222,  0.36166839,  0.32867483])}"
      ]
     },
     "execution_count": 45,
     "metadata": {},
     "output_type": "execute_result"
    }
   ],
   "source": [
    "model= LinearRegression()\n",
    "cross_val_score=cross_validate(model,X_train,y_train,cv=5)\n",
    "cross_val_score"
   ]
  },
  {
   "cell_type": "code",
   "execution_count": 46,
   "id": "b2929145",
   "metadata": {},
   "outputs": [
    {
     "name": "stdout",
     "output_type": "stream",
     "text": [
      "r2_score: 0.36070550592696926 \n",
      "mean_squared_log_error: 0.008589171848296542\n"
     ]
    }
   ],
   "source": [
    "model=Ridge()\n",
    "model.fit(X_train,y_train)\n",
    "predition=model.predict(X_test)\n",
    "r2=r2_score(y_test,predition)\n",
    "msle=mean_squared_log_error(y_test,predition)\n",
    "print(\"r2_score:\", r2, \"\\nmean_squared_log_error:\", msle)"
   ]
  },
  {
   "cell_type": "markdown",
   "id": "bab1e990",
   "metadata": {},
   "source": [
    "# KNeighborsRegressor"
   ]
  },
  {
   "cell_type": "code",
   "execution_count": 47,
   "id": "7ecda7ac",
   "metadata": {},
   "outputs": [
    {
     "name": "stdout",
     "output_type": "stream",
     "text": [
      "r2_score: 0.6127987173530591 \n",
      "mean_squared_log_error: 0.005434313982117979\n"
     ]
    }
   ],
   "source": [
    "from sklearn.neighbors import KNeighborsRegressor\n",
    "knn=KNeighborsRegressor(n_neighbors=11)\n",
    "knn.fit(X_train,y_train)\n",
    "prediction2=knn.predict(X_test)\n",
    "r2=r2_score(y_test,prediction2)\n",
    "msle=mean_squared_log_error(y_test,prediction2)\n",
    "print(\"r2_score:\", r2, \"\\nmean_squared_log_error:\", msle)"
   ]
  },
  {
   "cell_type": "markdown",
   "id": "3501dcd9",
   "metadata": {},
   "source": [
    "### Elbow curve"
   ]
  },
  {
   "cell_type": "code",
   "execution_count": 48,
   "id": "01f628b2",
   "metadata": {},
   "outputs": [],
   "source": [
    "def curve(k):\n",
    "    testloss=[]\n",
    "    for i in k:\n",
    "        reg=KNeighborsRegressor(n_neighbors=i)\n",
    "        reg.fit(X_train,y_train)\n",
    "        predit=reg.predict(X_test)\n",
    "        mse=mean_squared_error(predit,y_test)\n",
    "        testloss.append(mse)\n",
    "    return testloss;"
   ]
  },
  {
   "cell_type": "code",
   "execution_count": 49,
   "id": "7be71f1c",
   "metadata": {},
   "outputs": [],
   "source": [
    "r=range(5,25,2)\n",
    "test=curve(r)"
   ]
  },
  {
   "cell_type": "code",
   "execution_count": 50,
   "id": "79ebb5cd",
   "metadata": {},
   "outputs": [
    {
     "data": {
      "text/plain": [
       "[<matplotlib.lines.Line2D at 0x1b88b089bd0>]"
      ]
     },
     "execution_count": 50,
     "metadata": {},
     "output_type": "execute_result"
    },
    {
     "data": {
      "image/png": "[encoded data removed]",
      "text/plain": [
       "<Figure size 640x480 with 1 Axes>"
      ]
     },
     "metadata": {},
     "output_type": "display_data"
    }
   ],
   "source": [
    "plt.plot(r,test)"
   ]
  },
  {
   "cell_type": "markdown",
   "id": "8b987e96",
   "metadata": {},
   "source": [
    "# Light Gradient Boosting Machine"
   ]
  },
  {
   "cell_type": "code",
   "execution_count": 51,
   "id": "81a13e48",
   "metadata": {},
   "outputs": [
    {
     "name": "stdout",
     "output_type": "stream",
     "text": [
      "Requirement already satisfied: lightgbm in c:\\users\\sivam\\anaconda3\\.new folder\\lib\\site-packages (4.5.0)\n",
      "Requirement already satisfied: numpy>=1.17.0 in c:\\users\\sivam\\anaconda3\\.new folder\\lib\\site-packages (from lightgbm) (1.23.5)\n",
      "Requirement already satisfied: scipy in c:\\users\\sivam\\anaconda3\\.new folder\\lib\\site-packages (from lightgbm) (1.10.1)\n"
     ]
    },
    {
     "name": "stderr",
     "output_type": "stream",
     "text": [
      "WARNING: Ignoring invalid distribution -ensorflow-intel (c:\\users\\sivam\\anaconda3\\.new folder\\lib\\site-packages)\n",
      "WARNING: Ignoring invalid distribution -ltk (c:\\users\\sivam\\anaconda3\\.new folder\\lib\\site-packages)\n",
      "WARNING: Ignoring invalid distribution -ygments (c:\\users\\sivam\\anaconda3\\.new folder\\lib\\site-packages)\n",
      "WARNING: Ignoring invalid distribution -ensorflow-intel (c:\\users\\sivam\\anaconda3\\.new folder\\lib\\site-packages)\n",
      "WARNING: Ignoring invalid distribution -ltk (c:\\users\\sivam\\anaconda3\\.new folder\\lib\\site-packages)\n",
      "WARNING: Ignoring invalid distribution -ygments (c:\\users\\sivam\\anaconda3\\.new folder\\lib\\site-packages)\n",
      "WARNING: Ignoring invalid distribution -ensorflow-intel (c:\\users\\sivam\\anaconda3\\.new folder\\lib\\site-packages)\n",
      "WARNING: Ignoring invalid distribution -ltk (c:\\users\\sivam\\anaconda3\\.new folder\\lib\\site-packages)\n",
      "WARNING: Ignoring invalid distribution -ygments (c:\\users\\sivam\\anaconda3\\.new folder\\lib\\site-packages)\n",
      "\n",
      "[notice] A new release of pip is available: 24.2 -> 24.3.1\n",
      "[notice] To update, run: python.exe -m pip install --upgrade pip\n"
     ]
    }
   ],
   "source": [
    "!pip install lightgbm "
   ]
  },
  {
   "cell_type": "code",
   "execution_count": 52,
   "id": "df9f5459",
   "metadata": {},
   "outputs": [
    {
     "name": "stdout",
     "output_type": "stream",
     "text": [
      "[LightGBM] [Info] Auto-choosing row-wise multi-threading, the overhead of testing was 0.008920 seconds.\n",
      "You can set `force_row_wise=true` to remove the overhead.\n",
      "And if memory is not enough, you can set `force_col_wise=true`.\n",
      "[LightGBM] [Info] Total Bins 338\n",
      "[LightGBM] [Info] Number of data points in the train set: 510525, number of used features: 8\n",
      "[LightGBM] [Info] Start training from score 6.467253\n"
     ]
    },
    {
     "data": {
      "text/plain": [
       "0.6647089520255848"
      ]
     },
     "execution_count": 52,
     "metadata": {},
     "output_type": "execute_result"
    }
   ],
   "source": [
    "import lightgbm as lgb\n",
    "# Create a LightGBM dataset\n",
    "train_data = lgb.Dataset(X_train, label=y_train)\n",
    "test_data = lgb.Dataset(X_test, label=y_test, reference=train_data)\n",
    "\n",
    "# Set parameters\n",
    "params = {\n",
    "    'objective': 'regression',  # Task is regression\n",
    "    'metric': 'l2',             # Mean squared error\n",
    "    'num_leaves': 31,           # Number of leaves in a tree\n",
    "    'learning_rate': 0.05,      # Learning rate\n",
    "    'feature_fraction': 0.9, \n",
    "    # Fraction of features to consider at each split\n",
    "}\n",
    "\n",
    "# Train the model\n",
    "clf = lgb.train(params,\n",
    "                train_data,\n",
    "                valid_sets=[test_data], \n",
    "                num_boost_round=1000, \n",
    "                )\n",
    "\n",
    "# Make predictions\n",
    "y_pred = clf.predict(X_test, num_iteration=clf.best_iteration)\n",
    "\n",
    "# Evaluate model performance\n",
    "r2 = r2_score(y_test, y_pred)\n",
    "r2"
   ]
  }
 ],
 "metadata": {
  "kernelspec": {
   "display_name": "Python 3 (ipykernel)",
   "language": "python",
   "name": "python3"
  },
  "language_info": {
   "codemirror_mode": {
    "name": "ipython",
    "version": 3
   },
   "file_extension": ".py",
   "mimetype": "text/x-python",
   "name": "python",
   "nbconvert_exporter": "python",
   "pygments_lexer": "ipython3",
   "version": "3.10.9"
  }
 },
 "nbformat": 4,
 "nbformat_minor": 5
}
